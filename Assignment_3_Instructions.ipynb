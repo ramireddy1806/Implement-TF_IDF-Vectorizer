{
 "cells": [
  {
   "cell_type": "markdown",
   "metadata": {
    "colab_type": "text",
    "id": "h9464I-uxLiw"
   },
   "source": [
    "# Assignment"
   ]
  },
  {
   "cell_type": "markdown",
   "metadata": {
    "colab_type": "text",
    "id": "IvLvmewlxLix"
   },
   "source": [
    "<font face='georgia'>\n",
    "    \n",
    "   <h4><strong>What does tf-idf mean?</strong></h4>\n",
    "\n",
    "   <p>    \n",
    "Tf-idf stands for <em>term frequency-inverse document frequency</em>, and the tf-idf weight is a weight often used in information retrieval and text mining. This weight is a statistical measure used to evaluate how important a word is to a document in a collection or corpus. The importance increases proportionally to the number of times a word appears in the document but is offset by the frequency of the word in the corpus. Variations of the tf-idf weighting scheme are often used by search engines as a central tool in scoring and ranking a document's relevance given a user query.\n",
    "</p>\n",
    "    \n",
    "   <p>\n",
    "One of the simplest ranking functions is computed by summing the tf-idf for each query term; many more sophisticated ranking functions are variants of this simple model.\n",
    "</p>\n",
    "    \n",
    "   <p>\n",
    "Tf-idf can be successfully used for stop-words filtering in various subject fields including text summarization and classification.\n",
    "</p>\n",
    "    \n",
    "</font>"
   ]
  },
  {
   "cell_type": "markdown",
   "metadata": {
    "colab_type": "text",
    "id": "4XLaGFUMxLiy"
   },
   "source": [
    "<font face='georgia'>\n",
    "    <h4><strong>How to Compute:</strong></h4>\n",
    "\n",
    "Typically, the tf-idf weight is composed by two terms: the first computes the normalized Term Frequency (TF), aka. the number of times a word appears in a document, divided by the total number of words in that document; the second term is the Inverse Document Frequency (IDF), computed as the logarithm of the number of the documents in the corpus divided by the number of documents where the specific term appears.\n",
    "\n",
    " <ul>\n",
    "    <li>\n",
    "<strong>TF:</strong> Term Frequency, which measures how frequently a term occurs in a document. Since every document is different in length, it is possible that a term would appear much more times in long documents than shorter ones. Thus, the term frequency is often divided by the document length (aka. the total number of terms in the document) as a way of normalization: <br>\n",
    "\n",
    "$TF(t) = \\frac{\\text{Number of times term t appears in a document}}{\\text{Total number of terms in the document}}.$\n",
    "</li>\n",
    "<li>\n",
    "<strong>IDF:</strong> Inverse Document Frequency, which measures how important a term is. While computing TF, all terms are considered equally important. However it is known that certain terms, such as \"is\", \"of\", and \"that\", may appear a lot of times but have little importance. Thus we need to weigh down the frequent terms while scale up the rare ones, by computing the following: <br>\n",
    "\n",
    "$IDF(t) = \\log_{e}\\frac{\\text{Total  number of documents}} {\\text{Number of documents with term t in it}}.$\n",
    "for numerical stabiltiy we will be changing this formula little bit\n",
    "$IDF(t) = \\log_{e}\\frac{\\text{Total  number of documents}} {\\text{Number of documents with term t in it}+1}.$\n",
    "</li>\n",
    "</ul>\n",
    "\n",
    "<br>\n",
    "<h4><strong>Example</strong></h4>\n",
    "<p>\n",
    "\n",
    "Consider a document containing 100 words wherein the word cat appears 3 times. The term frequency (i.e., tf) for cat is then (3 / 100) = 0.03. Now, assume we have 10 million documents and the word cat appears in one thousand of these. Then, the inverse document frequency (i.e., idf) is calculated as log(10,000,000 / 1,000) = 4. Thus, the Tf-idf weight is the product of these quantities: 0.03 * 4 = 0.12.\n",
    "</p>\n",
    "</font>"
   ]
  },
  {
   "cell_type": "markdown",
   "metadata": {
    "colab_type": "text",
    "id": "dg2ooa4DxLiz"
   },
   "source": [
    "## Task-1"
   ]
  },
  {
   "cell_type": "markdown",
   "metadata": {
    "colab_type": "text",
    "id": "TAcTjhO8xLiz"
   },
   "source": [
    "<font face='georgia'>\n",
    "    <h4><strong>1. Build a TFIDF Vectorizer & compare its results with Sklearn:</strong></h4>\n",
    "\n",
    "<ul>\n",
    "    <li> As a part of this task you will be implementing TFIDF vectorizer on a collection of text documents.</li>\n",
    "    <br>\n",
    "    <li> You should compare the results of your own implementation of TFIDF vectorizer with that of sklearns implemenation TFIDF vectorizer.</li>\n",
    "    <br>\n",
    "    <li> Sklearn does few more tweaks in the implementation of its version of TFIDF vectorizer, so to replicate the exact results you would need to add following things to your custom implementation of tfidf vectorizer:\n",
    "       <ol>\n",
    "        <li> Sklearn has its vocabulary generated from idf sroted in alphabetical order</li>\n",
    "        <li> Sklearn formula of idf is different from the standard textbook formula. Here the constant <strong>\"1\"</strong> is added to the numerator and denominator of the idf as if an extra document was seen containing every term in the collection exactly once, which prevents zero divisions.\n",
    "            \n",
    " $IDF(t) = 1+\\log_{e}\\frac{1\\text{ }+\\text{ Total  number of documents in collection}} {1+\\text{Number of documents with term t in it}}.$\n",
    "        </li>\n",
    "        <li> Sklearn applies L2-normalization on its output matrix.</li>\n",
    "        <li> The final output of sklearn tfidf vectorizer is a sparse matrix.</li>\n",
    "    </ol>\n",
    "    <br>\n",
    "    <li>Steps to approach this task:\n",
    "    <ol>\n",
    "        <li> You would have to write both fit and transform methods for your custom implementation of tfidf vectorizer.</li>\n",
    "        <li> Print out the alphabetically sorted voacb after you fit your data and check if its the same as that of the feature names from sklearn tfidf vectorizer. </li>\n",
    "        <li> Print out the idf values from your implementation and check if its the same as that of sklearns tfidf vectorizer idf values. </li>\n",
    "        <li> Once you get your voacb and idf values to be same as that of sklearns implementation of tfidf vectorizer, proceed to the below steps. </li>\n",
    "        <li> Make sure the output of your implementation is a sparse matrix. Before generating the final output, you need to normalize your sparse matrix using L2 normalization. You can refer to this link https://scikit-learn.org/stable/modules/generated/sklearn.preprocessing.normalize.html </li>\n",
    "        <li> After completing the above steps, print the output of your custom implementation and compare it with sklearns implementation of tfidf vectorizer.</li>\n",
    "        <li> To check the output of a single document in your collection of documents,  you can convert the sparse matrix related only to that document into dense matrix and print it.</li>\n",
    "        </ol>\n",
    "    </li>\n",
    "    <br>\n",
    "   </ul>\n",
    "\n",
    "  <p> <font color=\"#e60000\"><strong>Note-1: </strong></font> All the necessary outputs of sklearns tfidf vectorizer have been provided as reference in this notebook, you can compare your outputs as mentioned in the above steps, with these outputs.<br>\n",
    "   <font color=\"#e60000\"><strong>Note-2: </strong></font> The output of your custom implementation and that of sklearns implementation would match only with the collection of document strings provided to you as reference in this notebook. It would not match for strings that contain capital letters or punctuations, etc, because sklearn version of tfidf vectorizer deals with such strings in a different way. To know further details about how sklearn tfidf vectorizer works with such string, you can always refer to its official documentation.<br>\n",
    "   <font color=\"#e60000\"><strong>Note-3: </strong></font> During this task, it would be helpful for you to debug the code you write with print statements wherever necessary. But when you are finally submitting the assignment, make sure your code is readable and try not to print things which are not part of this task.\n",
    "    </p>"
   ]
  },
  {
   "cell_type": "markdown",
   "metadata": {
    "colab_type": "text",
    "id": "OnV82tg1xLi0"
   },
   "source": [
    "### Corpus"
   ]
  },
  {
   "cell_type": "code",
   "execution_count": 1,
   "metadata": {
    "colab": {},
    "colab_type": "code",
    "id": "bUsYm9wjxLi1"
   },
   "outputs": [],
   "source": [
    "## SkLearn# Collection of string documents\n",
    "\n",
    "corpus = [\n",
    "     'this is the first document',\n",
    "     'this document is the second document',\n",
    "     'and this is the third one',\n",
    "     'is this the first document',\n",
    "]"
   ]
  },
  {
   "cell_type": "markdown",
   "metadata": {
    "colab_type": "text",
    "id": "eLwmFZfKxLi4"
   },
   "source": [
    "### SkLearn Implementation"
   ]
  },
  {
   "cell_type": "code",
   "execution_count": null,
   "metadata": {
    "colab": {},
    "colab_type": "code",
    "id": "Np4dfQOkxLi4"
   },
   "outputs": [],
   "source": [
    "from sklearn.feature_extraction.text import TfidfVectorizer\n",
    "vectorizer = TfidfVectorizer()\n",
    "vectorizer.fit(corpus)\n",
    "skl_output = vectorizer.transform(corpus)"
   ]
  },
  {
   "cell_type": "code",
   "execution_count": null,
   "metadata": {
    "colab": {},
    "colab_type": "code",
    "id": "-7Om8YpYxLi6",
    "outputId": "0a3bd0f5-4424-4400-944f-4482a80bd799"
   },
   "outputs": [
    {
     "name": "stdout",
     "output_type": "stream",
     "text": [
      "['and', 'document', 'first', 'is', 'one', 'second', 'the', 'third', 'this']\n"
     ]
    }
   ],
   "source": [
    "# sklearn feature names, they are sorted in alphabetic order by default.\n",
    "\n",
    "print(vectorizer.get_feature_names())"
   ]
  },
  {
   "cell_type": "code",
   "execution_count": null,
   "metadata": {
    "colab": {},
    "colab_type": "code",
    "id": "dTKplK96xLi-",
    "outputId": "53722fa2-6756-4aa0-f179-37b578bb6890"
   },
   "outputs": [
    {
     "name": "stdout",
     "output_type": "stream",
     "text": [
      "[1.91629073 1.22314355 1.51082562 1.         1.91629073 1.91629073\n",
      " 1.         1.91629073 1.        ]\n"
     ]
    }
   ],
   "source": [
    "# Here we will print the sklearn tfidf vectorizer idf values after applying the fit method\n",
    "# After using the fit function on the corpus the vocab has 9 words in it, and each has its idf value.\n",
    "\n",
    "print(vectorizer.idf_)"
   ]
  },
  {
   "cell_type": "code",
   "execution_count": null,
   "metadata": {
    "colab": {},
    "colab_type": "code",
    "id": "-CTiWHygxLjA",
    "outputId": "8d5a9cde-2c29-4afe-f7b4-1547e88dba4f"
   },
   "outputs": [
    {
     "data": {
      "text/plain": [
       "(4, 9)"
      ]
     },
     "execution_count": 5,
     "metadata": {
      "tags": []
     },
     "output_type": "execute_result"
    }
   ],
   "source": [
    "# shape of sklearn tfidf vectorizer output after applying transform method.\n",
    "\n",
    "skl_output.shape"
   ]
  },
  {
   "cell_type": "code",
   "execution_count": null,
   "metadata": {
    "colab": {},
    "colab_type": "code",
    "id": "bDKEpbA-xLjD",
    "outputId": "87dafd65-5313-443f-8c6e-1b05cc8c2543"
   },
   "outputs": [
    {
     "name": "stdout",
     "output_type": "stream",
     "text": [
      "  (0, 8)\t0.38408524091481483\n",
      "  (0, 6)\t0.38408524091481483\n",
      "  (0, 3)\t0.38408524091481483\n",
      "  (0, 2)\t0.5802858236844359\n",
      "  (0, 1)\t0.46979138557992045\n"
     ]
    }
   ],
   "source": [
    "# sklearn tfidf values for first line of the above corpus.\n",
    "# Here the output is a sparse matrix\n",
    "\n",
    "print(skl_output[0])"
   ]
  },
  {
   "cell_type": "code",
   "execution_count": null,
   "metadata": {
    "colab": {},
    "colab_type": "code",
    "id": "3QWo34hexLjF",
    "outputId": "cdc04e08-989f-4bdc-dd7f-f1c82a9f90be"
   },
   "outputs": [
    {
     "name": "stdout",
     "output_type": "stream",
     "text": [
      "[[0.         0.46979139 0.58028582 0.38408524 0.         0.\n",
      "  0.38408524 0.         0.38408524]]\n"
     ]
    }
   ],
   "source": [
    "# sklearn tfidf values for first line of the above corpus.\n",
    "# To understand the output better, here we are converting the sparse output matrix to dense matrix and printing it.\n",
    "# Notice that this output is normalized using L2 normalization. sklearn does this by default.\n",
    "\n",
    "print(skl_output[0].toarray())"
   ]
  },
  {
   "cell_type": "markdown",
   "metadata": {
    "colab_type": "text",
    "id": "qfIwx5LzxLjI"
   },
   "source": [
    "### Your custom implementation"
   ]
  },
  {
   "cell_type": "code",
   "execution_count": 2,
   "metadata": {
    "colab": {},
    "colab_type": "code",
    "id": "HjuCcJwXxLjJ"
   },
   "outputs": [],
   "source": [
    "# Write your code here.\n",
    "# Make sure its well documented and readble with appropriate comments.\n",
    "# Compare your results with the above sklearn tfidf vectorizer\n",
    "# You are not supposed to use any other library apart from the ones given below\n",
    "\n",
    "from collections import Counter\n",
    "from tqdm import tqdm\n",
    "from scipy.sparse import csr_matrix\n",
    "import math\n",
    "import operator\n",
    "from sklearn.preprocessing import normalize\n",
    "import numpy"
   ]
  },
  {
   "cell_type": "code",
   "execution_count": 39,
   "metadata": {},
   "outputs": [],
   "source": [
    "# Source: Assignment_3_Reference\n",
    "\n",
    "def fit(dataset):\n",
    "    \"\"\"The function will return the sorted unique words from the input list as an disctionary with each \n",
    "    unique word from the list as key and it's integer position as value, \n",
    "    and also return the idf value for each unique word in the document.\"\"\"\n",
    "    unique_words = set() # set that can store all the unique words\n",
    "    if isinstance(dataset, list): # checking for the input for its data type to make sure its a list.\n",
    "        N = len(dataset)\n",
    "        for row in dataset:\n",
    "            for word in row.split():\n",
    "                if len(word)<2: # Removing the words of length less than two.\n",
    "                    continue\n",
    "                unique_words.add(word)\n",
    "        unique_words = sorted(list(unique_words))\n",
    "        # Calculate idf values for each unique word in the list\n",
    "        idf = [] # initializing empty list for appending all the idf values\n",
    "        for word in unique_words:\n",
    "            value = 0\n",
    "            for row in dataset:\n",
    "                if word in row.split():\n",
    "                    value += 1\n",
    "            idf.append(1 + (math.log((1+N)/(1+value)))) # calculate and append idf values to the 'idf' list\n",
    "            \n",
    "        vocab = {j:i for i,j in enumerate(unique_words)} # dictionary of unique words\n",
    "        idfs = dict(dict(zip(unique_words, idf))) # dictionary for idf values of unique words.\n",
    "        \n",
    "        return vocab, idfs\n",
    "    else:\n",
    "        print('Please enter list of values')"
   ]
  },
  {
   "cell_type": "code",
   "execution_count": 40,
   "metadata": {
    "scrolled": true
   },
   "outputs": [],
   "source": [
    "vocab = fit(corpus) # cross check the idf values with the sklearns idf values."
   ]
  },
  {
   "cell_type": "code",
   "execution_count": 54,
   "metadata": {
    "scrolled": true
   },
   "outputs": [
    {
     "data": {
      "text/plain": [
       "{'and': 0,\n",
       " 'document': 1,\n",
       " 'first': 2,\n",
       " 'is': 3,\n",
       " 'one': 4,\n",
       " 'second': 5,\n",
       " 'the': 6,\n",
       " 'third': 7,\n",
       " 'this': 8}"
      ]
     },
     "execution_count": 54,
     "metadata": {},
     "output_type": "execute_result"
    }
   ],
   "source": [
    "vocab[0] # print list of unique words"
   ]
  },
  {
   "cell_type": "code",
   "execution_count": 59,
   "metadata": {},
   "outputs": [
    {
     "data": {
      "text/plain": [
       "{'and': 1.916290731874155,\n",
       " 'document': 1.2231435513142097,\n",
       " 'first': 1.5108256237659907,\n",
       " 'is': 1.0,\n",
       " 'one': 1.916290731874155,\n",
       " 'second': 1.916290731874155,\n",
       " 'the': 1.0,\n",
       " 'third': 1.916290731874155,\n",
       " 'this': 1.0}"
      ]
     },
     "execution_count": 59,
     "metadata": {},
     "output_type": "execute_result"
    }
   ],
   "source": [
    "vocab[1] # print list of idf values for unique words"
   ]
  },
  {
   "cell_type": "code",
   "execution_count": 55,
   "metadata": {},
   "outputs": [],
   "source": [
    "def transform(dataset, vocab):\n",
    "    \"\"\" The fuction returns the sparse matrix by computing tf-idf values for all the words in the input.\"\"\"\n",
    "    rows = []\n",
    "    columns = []\n",
    "    values = []\n",
    "    \n",
    "    if isinstance(dataset, list):\n",
    "        for indx, row in enumerate(tqdm(dataset)):\n",
    "            word_freq = dict(Counter(row.split()))\n",
    "            for word, freq in word_freq.items():\n",
    "                if len(word)<2:\n",
    "                    continue\n",
    "                tf = (freq/len(row.split())) # Calculating tf value for each word\n",
    "                idfs = vocab[1][word] # getting idf value for the word from fit() function\n",
    "                \n",
    "                col_index = vocab[0].get(word, -1) # tires to get the value from dict, if not found return -1.\n",
    "                if col_index != -1: # removing the words, which are not there in vocab.\n",
    "                    rows.append(indx)\n",
    "                    columns.append(col_index)\n",
    "                    values.append(tf*idfs) # calculating tf-idf value\n",
    "        return csr_matrix((values, (rows, columns)), shape=(len(dataset), len(vocab[0])))\n",
    "    else:\n",
    "        print('Please enter the list of values')"
   ]
  },
  {
   "cell_type": "code",
   "execution_count": 57,
   "metadata": {},
   "outputs": [
    {
     "name": "stderr",
     "output_type": "stream",
     "text": [
      "100%|████████████████████████████████████████████████████████████████████████████████████████████| 4/4 [00:00<?, ?it/s]\n"
     ]
    }
   ],
   "source": [
    "vect = transform(corpus, vocab)"
   ]
  },
  {
   "cell_type": "code",
   "execution_count": 58,
   "metadata": {},
   "outputs": [
    {
     "data": {
      "text/plain": [
       "array([[0.        , 0.46979139, 0.58028582, 0.38408524, 0.        ,\n",
       "        0.        , 0.38408524, 0.        , 0.38408524]])"
      ]
     },
     "execution_count": 58,
     "metadata": {},
     "output_type": "execute_result"
    }
   ],
   "source": [
    "normalize(vect[0].toarray(), 'l2') # comapare the result."
   ]
  },
  {
   "cell_type": "markdown",
   "metadata": {
    "colab_type": "text",
    "id": "MMxBmVZExLjK"
   },
   "source": [
    "## Task-2"
   ]
  },
  {
   "cell_type": "markdown",
   "metadata": {
    "colab_type": "text",
    "id": "51j_OtqAxLjL"
   },
   "source": [
    "<font face='georgia'>\n",
    "    <h4><strong>2. Implement max features functionality:</strong></h4>\n",
    "\n",
    "<ul>\n",
    "    <li> As a part of this task you have to modify your fit and transform functions so that your vocab will contain only 50 terms with top idf scores.</li>\n",
    "    <br>\n",
    "    <li>This task is similar to your previous task, just that here your vocabulary is limited to only top 50 features names based on their idf values. Basically your output will have exactly 50 columns and the number of rows will depend on the number of documents you have in your corpus.</li>\n",
    "    <br>\n",
    "    <li>Here you will be give a pickle file, with file name <strong>cleaned_strings</strong>. You would have to load the corpus from this file and use it as input to your tfidf vectorizer.</li>\n",
    "    <br>\n",
    "    <li>Steps to approach this task:\n",
    "    <ol>\n",
    "        <li> You would have to write both fit and transform methods for your custom implementation of tfidf vectorizer, just like in the previous task. Additionally, here you have to limit the number of features generated to 50 as described above.</li>\n",
    "        <li> Now sort your vocab based in descending order of idf values and print out the words in the sorted voacb after you fit your data. Here you should be getting only 50 terms in your vocab. And make sure to print idf values for each term in your vocab. </li>\n",
    "        <li> Make sure the output of your implementation is a sparse matrix. Before generating the final output, you need to normalize your sparse matrix using L2 normalization. You can refer to this link https://scikit-learn.org/stable/modules/generated/sklearn.preprocessing.normalize.html </li>\n",
    "        <li> Now check the output of a single document in your collection of documents,  you can convert the sparse matrix related only to that document into dense matrix and print it. And this dense matrix should contain 1 row and 50 columns. </li>\n",
    "        </ol>\n",
    "    </li>\n",
    "    <br>\n",
    "   </ul>"
   ]
  },
  {
   "cell_type": "code",
   "execution_count": 135,
   "metadata": {
    "colab": {},
    "colab_type": "code",
    "id": "NHxPLlwNxLjL",
    "outputId": "9abd8e08-0e24-4975-9a13-4d3636d60323"
   },
   "outputs": [
    {
     "name": "stdout",
     "output_type": "stream",
     "text": [
      "Number of documents in corpus =  746\n"
     ]
    }
   ],
   "source": [
    "# Below is the code to load the cleaned_strings pickle file provided\n",
    "# Here corpus is of list type\n",
    "\n",
    "import pickle\n",
    "with open('cleaned_strings', 'rb') as f:\n",
    "    corpus = pickle.load(f)\n",
    "    \n",
    "# printing the length of the corpus loaded\n",
    "print(\"Number of documents in corpus = \",len(corpus))"
   ]
  },
  {
   "cell_type": "code",
   "execution_count": null,
   "metadata": {
    "colab": {},
    "colab_type": "code",
    "id": "ZULfoOIdxLjQ"
   },
   "outputs": [],
   "source": [
    "# Write your code here.\n",
    "# Try not to hardcode any values.\n",
    "# Make sure its well documented and readble with appropriate comments."
   ]
  },
  {
   "cell_type": "code",
   "execution_count": 139,
   "metadata": {},
   "outputs": [],
   "source": [
    "# Source: Assignment_3_Reference\n",
    "\n",
    "def fit(dataset):\n",
    "    \"\"\"The function will return the sorted unique words from the input list as an disctionary with each \n",
    "    unique word from the list as key and it's integer position as value, \n",
    "    and also return the idf value for each unique word in the document, but limiting the result to top 50 idf values.\"\"\"\n",
    "    unique_words = set() # set that can store all the unique words\n",
    "    if isinstance(dataset, list): # checking for the input for its data type to make sure its a list.\n",
    "        N = len(dataset)\n",
    "        for row in dataset:\n",
    "            for word in row.split():\n",
    "                if len(word)<2: # Removing the words of length less than two.\n",
    "                    continue\n",
    "                unique_words.add(word)\n",
    "        unique_words = sorted(list(unique_words))\n",
    "        # Calculate idf values for each unique word in the list\n",
    "        idf = [] # initializing empty list for appending all the idf values\n",
    "        for word in unique_words:\n",
    "            value = 0\n",
    "            for row in dataset:\n",
    "                if word in row.split():\n",
    "                    value += 1\n",
    "            idf.append(1 + (math.log((1+N)/(1+value)))) # calculate and append idf values to the 'idf' list\n",
    "            \n",
    "        vocab_all = {j:i for i,j in enumerate(unique_words)}\n",
    "        idf_list = dict(dict(zip(unique_words, idf)))\n",
    "        idf_list = sorted([(value, key) for (key, value) in idf_list.items()], reverse=True)[:50]\n",
    "        idfs = {}\n",
    "        for idf, word in idf_list:\n",
    "            idfs[word] = idf\n",
    "        vocab = {}\n",
    "        i = 0\n",
    "        for key in vocab_all.keys():\n",
    "            if key in idfs.keys():\n",
    "                vocab[key] = i\n",
    "                i += 1\n",
    "        return vocab, idfs\n",
    "    else:\n",
    "        print('Please enter list of values')"
   ]
  },
  {
   "cell_type": "code",
   "execution_count": 112,
   "metadata": {},
   "outputs": [
    {
     "name": "stdout",
     "output_type": "stream",
     "text": [
      "{'Sachin': 10, 'MSD': 7, 'Kohli': 18, 'Rohit': 45}\n"
     ]
    }
   ],
   "source": [
    "print (dict([('Sachin', 10), ('MSD', 7), ('Kohli', 18), ('Rohit', 45)]))\n"
   ]
  },
  {
   "cell_type": "code",
   "execution_count": 140,
   "metadata": {},
   "outputs": [],
   "source": [
    "vocab=fit(corpus)"
   ]
  },
  {
   "cell_type": "code",
   "execution_count": 145,
   "metadata": {
    "scrolled": true
   },
   "outputs": [
    {
     "data": {
      "text/plain": [
       "({'wb': 0,\n",
       "  'weaker': 1,\n",
       "  'weariness': 2,\n",
       "  'weaving': 3,\n",
       "  'website': 4,\n",
       "  'wedding': 5,\n",
       "  'weight': 6,\n",
       "  'welsh': 7,\n",
       "  'went': 8,\n",
       "  'whenever': 9,\n",
       "  'whine': 10,\n",
       "  'whites': 11,\n",
       "  'whoever': 12,\n",
       "  'wide': 13,\n",
       "  'widmark': 14,\n",
       "  'wife': 15,\n",
       "  'wih': 16,\n",
       "  'wild': 17,\n",
       "  'william': 18,\n",
       "  'willie': 19,\n",
       "  'wily': 20,\n",
       "  'win': 21,\n",
       "  'wise': 22,\n",
       "  'within': 23,\n",
       "  'witticisms': 24,\n",
       "  'woa': 25,\n",
       "  'wondered': 26,\n",
       "  'wong': 27,\n",
       "  'wont': 28,\n",
       "  'woo': 29,\n",
       "  'worked': 30,\n",
       "  'worry': 31,\n",
       "  'worthless': 32,\n",
       "  'worthwhile': 33,\n",
       "  'worthy': 34,\n",
       "  'wouldnt': 35,\n",
       "  'woven': 36,\n",
       "  'wow': 37,\n",
       "  'wrap': 38,\n",
       "  'writers': 39,\n",
       "  'wrote': 40,\n",
       "  'yardley': 41,\n",
       "  'yawn': 42,\n",
       "  'yelps': 43,\n",
       "  'younger': 44,\n",
       "  'youthful': 45,\n",
       "  'youtube': 46,\n",
       "  'yun': 47,\n",
       "  'zillion': 48,\n",
       "  'zombiez': 49},\n",
       " {'zombiez': 6.922918004572872,\n",
       "  'zillion': 6.922918004572872,\n",
       "  'yun': 6.922918004572872,\n",
       "  'youtube': 6.922918004572872,\n",
       "  'youthful': 6.922918004572872,\n",
       "  'younger': 6.922918004572872,\n",
       "  'yelps': 6.922918004572872,\n",
       "  'yawn': 6.922918004572872,\n",
       "  'yardley': 6.922918004572872,\n",
       "  'wrote': 6.922918004572872,\n",
       "  'writers': 6.922918004572872,\n",
       "  'wrap': 6.922918004572872,\n",
       "  'wow': 6.922918004572872,\n",
       "  'woven': 6.922918004572872,\n",
       "  'wouldnt': 6.922918004572872,\n",
       "  'worthy': 6.922918004572872,\n",
       "  'worthwhile': 6.922918004572872,\n",
       "  'worthless': 6.922918004572872,\n",
       "  'worry': 6.922918004572872,\n",
       "  'worked': 6.922918004572872,\n",
       "  'woo': 6.922918004572872,\n",
       "  'wont': 6.922918004572872,\n",
       "  'wong': 6.922918004572872,\n",
       "  'wondered': 6.922918004572872,\n",
       "  'woa': 6.922918004572872,\n",
       "  'witticisms': 6.922918004572872,\n",
       "  'within': 6.922918004572872,\n",
       "  'wise': 6.922918004572872,\n",
       "  'win': 6.922918004572872,\n",
       "  'wily': 6.922918004572872,\n",
       "  'willie': 6.922918004572872,\n",
       "  'william': 6.922918004572872,\n",
       "  'wild': 6.922918004572872,\n",
       "  'wih': 6.922918004572872,\n",
       "  'wife': 6.922918004572872,\n",
       "  'widmark': 6.922918004572872,\n",
       "  'wide': 6.922918004572872,\n",
       "  'whoever': 6.922918004572872,\n",
       "  'whites': 6.922918004572872,\n",
       "  'whine': 6.922918004572872,\n",
       "  'whenever': 6.922918004572872,\n",
       "  'went': 6.922918004572872,\n",
       "  'welsh': 6.922918004572872,\n",
       "  'weight': 6.922918004572872,\n",
       "  'wedding': 6.922918004572872,\n",
       "  'website': 6.922918004572872,\n",
       "  'weaving': 6.922918004572872,\n",
       "  'weariness': 6.922918004572872,\n",
       "  'weaker': 6.922918004572872,\n",
       "  'wb': 6.922918004572872})"
      ]
     },
     "execution_count": 145,
     "metadata": {},
     "output_type": "execute_result"
    }
   ],
   "source": [
    "vocab"
   ]
  },
  {
   "cell_type": "code",
   "execution_count": 141,
   "metadata": {
    "scrolled": true
   },
   "outputs": [
    {
     "data": {
      "text/plain": [
       "{'zombiez': 6.922918004572872,\n",
       " 'zillion': 6.922918004572872,\n",
       " 'yun': 6.922918004572872,\n",
       " 'youtube': 6.922918004572872,\n",
       " 'youthful': 6.922918004572872,\n",
       " 'younger': 6.922918004572872,\n",
       " 'yelps': 6.922918004572872,\n",
       " 'yawn': 6.922918004572872,\n",
       " 'yardley': 6.922918004572872,\n",
       " 'wrote': 6.922918004572872,\n",
       " 'writers': 6.922918004572872,\n",
       " 'wrap': 6.922918004572872,\n",
       " 'wow': 6.922918004572872,\n",
       " 'woven': 6.922918004572872,\n",
       " 'wouldnt': 6.922918004572872,\n",
       " 'worthy': 6.922918004572872,\n",
       " 'worthwhile': 6.922918004572872,\n",
       " 'worthless': 6.922918004572872,\n",
       " 'worry': 6.922918004572872,\n",
       " 'worked': 6.922918004572872,\n",
       " 'woo': 6.922918004572872,\n",
       " 'wont': 6.922918004572872,\n",
       " 'wong': 6.922918004572872,\n",
       " 'wondered': 6.922918004572872,\n",
       " 'woa': 6.922918004572872,\n",
       " 'witticisms': 6.922918004572872,\n",
       " 'within': 6.922918004572872,\n",
       " 'wise': 6.922918004572872,\n",
       " 'win': 6.922918004572872,\n",
       " 'wily': 6.922918004572872,\n",
       " 'willie': 6.922918004572872,\n",
       " 'william': 6.922918004572872,\n",
       " 'wild': 6.922918004572872,\n",
       " 'wih': 6.922918004572872,\n",
       " 'wife': 6.922918004572872,\n",
       " 'widmark': 6.922918004572872,\n",
       " 'wide': 6.922918004572872,\n",
       " 'whoever': 6.922918004572872,\n",
       " 'whites': 6.922918004572872,\n",
       " 'whine': 6.922918004572872,\n",
       " 'whenever': 6.922918004572872,\n",
       " 'went': 6.922918004572872,\n",
       " 'welsh': 6.922918004572872,\n",
       " 'weight': 6.922918004572872,\n",
       " 'wedding': 6.922918004572872,\n",
       " 'website': 6.922918004572872,\n",
       " 'weaving': 6.922918004572872,\n",
       " 'weariness': 6.922918004572872,\n",
       " 'weaker': 6.922918004572872,\n",
       " 'wb': 6.922918004572872}"
      ]
     },
     "execution_count": 141,
     "metadata": {},
     "output_type": "execute_result"
    }
   ],
   "source": [
    "vocab[1]"
   ]
  },
  {
   "cell_type": "code",
   "execution_count": 142,
   "metadata": {
    "scrolled": true
   },
   "outputs": [
    {
     "data": {
      "text/plain": [
       "{'wb': 0,\n",
       " 'weaker': 1,\n",
       " 'weariness': 2,\n",
       " 'weaving': 3,\n",
       " 'website': 4,\n",
       " 'wedding': 5,\n",
       " 'weight': 6,\n",
       " 'welsh': 7,\n",
       " 'went': 8,\n",
       " 'whenever': 9,\n",
       " 'whine': 10,\n",
       " 'whites': 11,\n",
       " 'whoever': 12,\n",
       " 'wide': 13,\n",
       " 'widmark': 14,\n",
       " 'wife': 15,\n",
       " 'wih': 16,\n",
       " 'wild': 17,\n",
       " 'william': 18,\n",
       " 'willie': 19,\n",
       " 'wily': 20,\n",
       " 'win': 21,\n",
       " 'wise': 22,\n",
       " 'within': 23,\n",
       " 'witticisms': 24,\n",
       " 'woa': 25,\n",
       " 'wondered': 26,\n",
       " 'wong': 27,\n",
       " 'wont': 28,\n",
       " 'woo': 29,\n",
       " 'worked': 30,\n",
       " 'worry': 31,\n",
       " 'worthless': 32,\n",
       " 'worthwhile': 33,\n",
       " 'worthy': 34,\n",
       " 'wouldnt': 35,\n",
       " 'woven': 36,\n",
       " 'wow': 37,\n",
       " 'wrap': 38,\n",
       " 'writers': 39,\n",
       " 'wrote': 40,\n",
       " 'yardley': 41,\n",
       " 'yawn': 42,\n",
       " 'yelps': 43,\n",
       " 'younger': 44,\n",
       " 'youthful': 45,\n",
       " 'youtube': 46,\n",
       " 'yun': 47,\n",
       " 'zillion': 48,\n",
       " 'zombiez': 49}"
      ]
     },
     "execution_count": 142,
     "metadata": {},
     "output_type": "execute_result"
    }
   ],
   "source": [
    "vocab[0]"
   ]
  },
  {
   "cell_type": "code",
   "execution_count": 148,
   "metadata": {},
   "outputs": [],
   "source": [
    "def transform(dataset, vocab):\n",
    "    \"\"\" The fuction returns the sparse matrix by computing tf-idf values for all the words in the input.\"\"\"\n",
    "    rows = []\n",
    "    columns = []\n",
    "    values = []\n",
    "    \n",
    "    if isinstance(dataset, list):\n",
    "        for indx, row in enumerate(tqdm(dataset)):\n",
    "            word_freq = dict(Counter(row.split()))\n",
    "            for word, freq in word_freq.items():\n",
    "                if len(word)<2:\n",
    "                    continue\n",
    "                tf = (freq/len(row.split())) # Calculating tf value for each word\n",
    "                if word in vocab[1].keys():\n",
    "                    idfs = vocab[1][word]\n",
    "                else: 0\n",
    "                \n",
    "                col_index = vocab[0].get(word, -1) # tires to get the value from dict, if not found return -1.\n",
    "                if col_index != -1: # removing the words, which are not there in vocab.\n",
    "                    rows.append(indx)\n",
    "                    columns.append(col_index)\n",
    "                    values.append(tf*idfs)\n",
    "        return csr_matrix((values, (rows, columns)), shape=(len(dataset), len(vocab[0])))\n",
    "    else:\n",
    "        print('Please enter the list of values')"
   ]
  },
  {
   "cell_type": "code",
   "execution_count": 149,
   "metadata": {
    "scrolled": true
   },
   "outputs": [
    {
     "name": "stderr",
     "output_type": "stream",
     "text": [
      "100%|██████████████████████████████████████████████████████████████████████████████| 746/746 [00:00<00:00, 9812.22it/s]\n"
     ]
    },
    {
     "data": {
      "text/plain": [
       "array([[0., 0., 0., 0., 0., 0., 0., 0., 0., 0., 0., 0., 0., 0., 0., 0.,\n",
       "        0., 0., 0., 0., 0., 0., 0., 0., 0., 0., 0., 0., 0., 0., 0., 0.,\n",
       "        0., 0., 0., 0., 0., 0., 0., 0., 0., 0., 0., 0., 0., 0., 0., 0.,\n",
       "        0., 0.]])"
      ]
     },
     "execution_count": 149,
     "metadata": {},
     "output_type": "execute_result"
    }
   ],
   "source": [
    "normalize(transform(corpus, vocab)[0].toarray())"
   ]
  },
  {
   "cell_type": "code",
   "execution_count": null,
   "metadata": {},
   "outputs": [],
   "source": []
  }
 ],
 "metadata": {
  "colab": {
   "collapsed_sections": [],
   "name": "Assignment_3_Instructions.ipynb",
   "provenance": []
  },
  "kernelspec": {
   "display_name": "Python 3",
   "language": "python",
   "name": "python3"
  },
  "language_info": {
   "codemirror_mode": {
    "name": "ipython",
    "version": 3
   },
   "file_extension": ".py",
   "mimetype": "text/x-python",
   "name": "python",
   "nbconvert_exporter": "python",
   "pygments_lexer": "ipython3",
   "version": "3.6.5"
  }
 },
 "nbformat": 4,
 "nbformat_minor": 1
}
